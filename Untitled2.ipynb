{
 "cells": [
  {
   "cell_type": "markdown",
   "id": "83cd39c3",
   "metadata": {},
   "source": [
    "## 0 Install and import Dependencies"
   ]
  },
  {
   "cell_type": "code",
   "execution_count": 3,
   "id": "5c3ddeef",
   "metadata": {},
   "outputs": [],
   "source": [
    "from ibm_watson import SpeechToTextV1\n",
    "from ibm_cloud_sdk_core.authenticators import IAMAuthenticator"
   ]
  },
  {
   "cell_type": "markdown",
   "id": "e3c15502",
   "metadata": {},
   "source": [
    "## Setup STT Service"
   ]
  },
  {
   "cell_type": "code",
   "execution_count": 4,
   "id": "f63b5678",
   "metadata": {},
   "outputs": [],
   "source": [
    "apikey = \"u7-XsnIkfInS_e2iys3fg_gsUY3OUf11NyhGv7mOfOpJ\"\n",
    "url= \"https://api.jp-tok.speech-to-text.watson.cloud.ibm.com/instances/dba2a3c1-7828-47f6-9c2b-c070ccc03607\""
   ]
  },
  {
   "cell_type": "code",
   "execution_count": 5,
   "id": "e3644ce5",
   "metadata": {},
   "outputs": [],
   "source": [
    "# SetupServices\n",
    "authenticator = IAMAuthenticator(apikey)\n",
    "stt = SpeechToTextV1(authenticator=authenticator)\n",
    "stt.set_service_url(url)"
   ]
  },
  {
   "cell_type": "markdown",
   "id": "b2deac33",
   "metadata": {},
   "source": [
    "## Open Audio Souce and Convert"
   ]
  },
  {
   "cell_type": "code",
   "execution_count": 6,
   "id": "9cb50982",
   "metadata": {},
   "outputs": [],
   "source": [
    "# perform conversion\n",
    "with open ('welcome.mp3', 'rb') as f:\n",
    "    res = stt.recognize(audio=f, content_type='audio/mp3', model = 'en-US_NarrowbandModel', continuous=True).get_result()"
   ]
  },
  {
   "cell_type": "code",
   "execution_count": 7,
   "id": "269737d8",
   "metadata": {},
   "outputs": [
    {
     "data": {
      "text/plain": [
       "{'result_index': 0,\n",
       " 'results': [{'final': True,\n",
       "   'alternatives': [{'transcript': 'hello Erin body right I love you with all my heart can you be my wife from Raj eve Anand ',\n",
       "     'confidence': 0.75}]}]}"
      ]
     },
     "execution_count": 7,
     "metadata": {},
     "output_type": "execute_result"
    }
   ],
   "source": [
    "res"
   ]
  },
  {
   "cell_type": "code",
   "execution_count": 10,
   "id": "e8326acd",
   "metadata": {},
   "outputs": [
    {
     "data": {
      "text/plain": [
       "'hello Erin body right I love you with all my heart can you be my wife from Raj eve Anand '"
      ]
     },
     "execution_count": 10,
     "metadata": {},
     "output_type": "execute_result"
    }
   ],
   "source": [
    "text = res['results'][0]['alternatives'][0]['transcript']\n",
    "text"
   ]
  },
  {
   "cell_type": "code",
   "execution_count": 11,
   "id": "1e1cd83e",
   "metadata": {},
   "outputs": [
    {
     "data": {
      "text/plain": [
       "0.75"
      ]
     },
     "execution_count": 11,
     "metadata": {},
     "output_type": "execute_result"
    }
   ],
   "source": [
    "confidence = res['results'][0]['alternatives'][0]['confidence']\n",
    "confidence"
   ]
  },
  {
   "cell_type": "code",
   "execution_count": 12,
   "id": "ce6c8a97",
   "metadata": {},
   "outputs": [],
   "source": [
    "with open('welcome2.txt', 'w') as out:\n",
    "    out.writelines(text)"
   ]
  },
  {
   "cell_type": "markdown",
   "id": "485c0f8d",
   "metadata": {},
   "source": [
    "## "
   ]
  }
 ],
 "metadata": {
  "kernelspec": {
   "display_name": "Python 3 (ipykernel)",
   "language": "python",
   "name": "python3"
  },
  "language_info": {
   "codemirror_mode": {
    "name": "ipython",
    "version": 3
   },
   "file_extension": ".py",
   "mimetype": "text/x-python",
   "name": "python",
   "nbconvert_exporter": "python",
   "pygments_lexer": "ipython3",
   "version": "3.9.6"
  }
 },
 "nbformat": 4,
 "nbformat_minor": 5
}
