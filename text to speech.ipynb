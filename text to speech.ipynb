{
 "cells": [
  {
   "cell_type": "code",
   "execution_count": 1,
   "id": "1e6feae9",
   "metadata": {},
   "outputs": [
    {
     "name": "stdout",
     "output_type": "stream",
     "text": [
      "Collecting ibm_watson\n",
      "  Downloading ibm-watson-5.2.3.tar.gz (406 kB)\n",
      "  Installing build dependencies: started\n",
      "  Installing build dependencies: finished with status 'done'\n",
      "  Getting requirements to build wheel: started\n",
      "  Getting requirements to build wheel: finished with status 'done'\n",
      "    Preparing wheel metadata: started\n",
      "    Preparing wheel metadata: finished with status 'done'\n",
      "Collecting ibm-cloud-sdk-core==3.*,>=3.3.6\n",
      "  Downloading ibm-cloud-sdk-core-3.11.3.tar.gz (45 kB)\n",
      "Requirement already satisfied: python-dateutil>=2.5.3 in c:\\python 39\\lib\\site-packages (from ibm_watson) (2.8.2)\n",
      "Collecting websocket-client==1.1.0\n",
      "  Downloading websocket_client-1.1.0-py2.py3-none-any.whl (68 kB)\n",
      "Requirement already satisfied: requests<3.0,>=2.0 in c:\\python 39\\lib\\site-packages (from ibm_watson) (2.26.0)\n",
      "Collecting PyJWT<3.0.0,>=2.0.1\n",
      "  Downloading PyJWT-2.1.0-py3-none-any.whl (16 kB)\n",
      "Requirement already satisfied: six>=1.5 in c:\\python 39\\lib\\site-packages (from python-dateutil>=2.5.3->ibm_watson) (1.16.0)\n",
      "Requirement already satisfied: idna<4,>=2.5 in c:\\python 39\\lib\\site-packages (from requests<3.0,>=2.0->ibm_watson) (3.2)\n",
      "Requirement already satisfied: certifi>=2017.4.17 in c:\\python 39\\lib\\site-packages (from requests<3.0,>=2.0->ibm_watson) (2021.5.30)\n",
      "Requirement already satisfied: charset-normalizer~=2.0.0 in c:\\python 39\\lib\\site-packages (from requests<3.0,>=2.0->ibm_watson) (2.0.4)\n",
      "Requirement already satisfied: urllib3<1.27,>=1.21.1 in c:\\python 39\\lib\\site-packages (from requests<3.0,>=2.0->ibm_watson) (1.26.6)\n",
      "Using legacy 'setup.py install' for ibm-cloud-sdk-core, since package 'wheel' is not installed.\n",
      "Building wheels for collected packages: ibm-watson\n",
      "  Building wheel for ibm-watson (PEP 517): started\n",
      "  Building wheel for ibm-watson (PEP 517): finished with status 'done'\n",
      "  Created wheel for ibm-watson: filename=ibm_watson-5.2.3-py3-none-any.whl size=403336 sha256=38483eb52a90a792d6e9b621dddb731f65c64d11f06d295ebf69235837c753ae\n",
      "  Stored in directory: c:\\users\\rajeev\\appdata\\local\\pip\\cache\\wheels\\38\\28\\af\\cdd8d3d465935467794715208d453fa63ae7c15f76f3f7016b\n",
      "Successfully built ibm-watson\n",
      "Installing collected packages: PyJWT, websocket-client, ibm-cloud-sdk-core, ibm-watson\n",
      "    Running setup.py install for ibm-cloud-sdk-core: started\n",
      "    Running setup.py install for ibm-cloud-sdk-core: finished with status 'done'\n",
      "Successfully installed PyJWT-2.1.0 ibm-cloud-sdk-core-3.11.3 ibm-watson-5.2.3 websocket-client-1.1.0\n",
      "Note: you may need to restart the kernel to use updated packages.\n"
     ]
    }
   ],
   "source": [
    "pip install ibm_watson"
   ]
  },
  {
   "cell_type": "code",
   "execution_count": 2,
   "id": "ca4d11a2",
   "metadata": {},
   "outputs": [
    {
     "name": "stdout",
     "output_type": "stream",
     "text": [
      "Requirement already satisfied: ibm_watson in c:\\python 39\\lib\\site-packages (5.2.3)Note: you may need to restart the kernel to use updated packages.\n",
      "Requirement already satisfied: websocket-client==1.1.0 in c:\\python 39\\lib\\site-packages (from ibm_watson) (1.1.0)\n",
      "Requirement already satisfied: requests<3.0,>=2.0 in c:\\python 39\\lib\\site-packages (from ibm_watson) (2.26.0)\n",
      "Requirement already satisfied: ibm-cloud-sdk-core==3.*,>=3.3.6 in c:\\python 39\\lib\\site-packages (from ibm_watson) (3.11.3)\n",
      "Requirement already satisfied: python-dateutil>=2.5.3 in c:\\python 39\\lib\\site-packages (from ibm_watson) (2.8.2)\n",
      "Requirement already satisfied: PyJWT<3.0.0,>=2.0.1 in c:\\python 39\\lib\\site-packages (from ibm-cloud-sdk-core==3.*,>=3.3.6->ibm_watson) (2.1.0)\n",
      "Requirement already satisfied: six>=1.5 in c:\\python 39\\lib\\site-packages (from python-dateutil>=2.5.3->ibm_watson) (1.16.0)\n",
      "Requirement already satisfied: idna<4,>=2.5 in c:\\python 39\\lib\\site-packages (from requests<3.0,>=2.0->ibm_watson) (3.2)\n",
      "Requirement already satisfied: certifi>=2017.4.17 in c:\\python 39\\lib\\site-packages (from requests<3.0,>=2.0->ibm_watson) (2021.5.30)\n",
      "Requirement already satisfied: charset-normalizer~=2.0.0 in c:\\python 39\\lib\\site-packages (from requests<3.0,>=2.0->ibm_watson) (2.0.4)\n",
      "Requirement already satisfied: urllib3<1.27,>=1.21.1 in c:\\python 39\\lib\\site-packages (from requests<3.0,>=2.0->ibm_watson) (1.26.6)\n",
      "\n"
     ]
    }
   ],
   "source": [
    "pip install ibm_watson"
   ]
  },
  {
   "cell_type": "code",
   "execution_count": 3,
   "id": "aef1b2fe",
   "metadata": {},
   "outputs": [
    {
     "name": "stdout",
     "output_type": "stream",
     "text": [
      "Requirement already satisfied: ibm_cloud_sdk_core in c:\\python 39\\lib\\site-packages (3.11.3)\n",
      "Requirement already satisfied: requests<3.0,>=2.20 in c:\\python 39\\lib\\site-packages (from ibm_cloud_sdk_core) (2.26.0)\n",
      "Requirement already satisfied: python_dateutil<3.0.0,>=2.5.3 in c:\\python 39\\lib\\site-packages (from ibm_cloud_sdk_core) (2.8.2)\n",
      "Requirement already satisfied: PyJWT<3.0.0,>=2.0.1 in c:\\python 39\\lib\\site-packages (from ibm_cloud_sdk_core) (2.1.0)\n",
      "Requirement already satisfied: six>=1.5 in c:\\python 39\\lib\\site-packages (from python_dateutil<3.0.0,>=2.5.3->ibm_cloud_sdk_core) (1.16.0)\n",
      "Requirement already satisfied: charset-normalizer~=2.0.0 in c:\\python 39\\lib\\site-packages (from requests<3.0,>=2.20->ibm_cloud_sdk_core) (2.0.4)\n",
      "Requirement already satisfied: certifi>=2017.4.17 in c:\\python 39\\lib\\site-packages (from requests<3.0,>=2.20->ibm_cloud_sdk_core) (2021.5.30)\n",
      "Requirement already satisfied: idna<4,>=2.5 in c:\\python 39\\lib\\site-packages (from requests<3.0,>=2.20->ibm_cloud_sdk_core) (3.2)\n",
      "Requirement already satisfied: urllib3<1.27,>=1.21.1 in c:\\python 39\\lib\\site-packages (from requests<3.0,>=2.20->ibm_cloud_sdk_core) (1.26.6)\n",
      "Note: you may need to restart the kernel to use updated packages.\n"
     ]
    }
   ],
   "source": [
    "pip install ibm_cloud_sdk_core"
   ]
  },
  {
   "cell_type": "code",
   "execution_count": 4,
   "id": "d2d305bc",
   "metadata": {},
   "outputs": [],
   "source": [
    "from ibm_watson import TextToSpeechV1"
   ]
  },
  {
   "cell_type": "code",
   "execution_count": 5,
   "id": "02279b6e",
   "metadata": {},
   "outputs": [],
   "source": [
    "from ibm_cloud_sdk_core.authenticators import IAMAuthenticator"
   ]
  },
  {
   "cell_type": "code",
   "execution_count": 6,
   "id": "3f81e8f8",
   "metadata": {},
   "outputs": [
    {
     "ename": "NameError",
     "evalue": "name 'IAMAauthenticator' is not defined",
     "output_type": "error",
     "traceback": [
      "\u001b[1;31m---------------------------------------------------------------------------\u001b[0m",
      "\u001b[1;31mNameError\u001b[0m                                 Traceback (most recent call last)",
      "\u001b[1;32m~\\AppData\\Local\\Temp/ipykernel_8460/564041166.py\u001b[0m in \u001b[0;36m<module>\u001b[1;34m\u001b[0m\n\u001b[1;32m----> 1\u001b[1;33m \u001b[0mapi\u001b[0m \u001b[1;33m=\u001b[0m \u001b[0mIAMAauthenticator\u001b[0m\u001b[1;33m(\u001b[0m\u001b[1;34m\"yL5yxJfzOIio-RSedJv3j9AvJ0tJ9NHJOGnXCjAsgnEL\"\u001b[0m\u001b[1;33m)\u001b[0m\u001b[1;33m\u001b[0m\u001b[1;33m\u001b[0m\u001b[0m\n\u001b[0m",
      "\u001b[1;31mNameError\u001b[0m: name 'IAMAauthenticator' is not defined"
     ]
    }
   ],
   "source": [
    "api = IAMAauthenticator(\"yL5yxJfzOIio-RSedJv3j9AvJ0tJ9NHJOGnXCjAsgnEL\")"
   ]
  },
  {
   "cell_type": "code",
   "execution_count": 7,
   "id": "46d0a3f1",
   "metadata": {},
   "outputs": [],
   "source": [
    "api = IAMAuthenticator(\"yL5yxJfzOIio-RSedJv3j9AvJ0tJ9NHJOGnXCjAsgnEL\")"
   ]
  },
  {
   "cell_type": "code",
   "execution_count": 8,
   "id": "db16a5a6",
   "metadata": {},
   "outputs": [],
   "source": [
    "text_2_speech = TextToSpeechV1(authenticator=api)"
   ]
  },
  {
   "cell_type": "code",
   "execution_count": 9,
   "id": "495b37ae",
   "metadata": {},
   "outputs": [],
   "source": [
    "text_2_speech.set_service_url(\"https://api.eu-gb.text-to-speech.watson.cloud.ibm.com/instances/66811132-f995-4796-b425-6da1cfa01753\")"
   ]
  },
  {
   "cell_type": "code",
   "execution_count": 12,
   "id": "79ef4cc4",
   "metadata": {},
   "outputs": [],
   "source": [
    "with open(\"welcome.mp3\", \"wb\") as audiofile:\n",
    "    audiofile.write(\n",
    "    text_2_speech.synthesize(\"Hello, Arundhati rai. I Love You with all my heart, can you be my wife?   from Rajeev Anand\", accept = \"audio/mp3\").get_result().content)"
   ]
  },
  {
   "cell_type": "code",
   "execution_count": null,
   "id": "1686ee54",
   "metadata": {},
   "outputs": [],
   "source": []
  }
 ],
 "metadata": {
  "kernelspec": {
   "display_name": "Python 3 (ipykernel)",
   "language": "python",
   "name": "python3"
  },
  "language_info": {
   "codemirror_mode": {
    "name": "ipython",
    "version": 3
   },
   "file_extension": ".py",
   "mimetype": "text/x-python",
   "name": "python",
   "nbconvert_exporter": "python",
   "pygments_lexer": "ipython3",
   "version": "3.9.6"
  }
 },
 "nbformat": 4,
 "nbformat_minor": 5
}
